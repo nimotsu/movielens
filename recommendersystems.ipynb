{
 "cells": [
  {
   "cell_type": "code",
   "execution_count": 1,
   "metadata": {},
   "outputs": [],
   "source": [
    "import pandas as pd\n",
    "%matplotlib inline\n",
    "import matplotlib\n",
    "import matplotlib.pyplot as plt\n",
    "import numpy as np"
   ]
  },
  {
   "cell_type": "code",
   "execution_count": 2,
   "metadata": {},
   "outputs": [],
   "source": [
    "# pass in column names for each CSV as the column name is not given in the file and read them using pandas.\n",
    "# You can check the column names from the readme file\n",
    "\n",
    "#Reading users file:\n",
    "u_cols = ['user_id', 'age', 'sex', 'occupation', 'zip_code']\n",
    "users = pd.read_csv('ml-100k/u.user', sep='|', names=u_cols,encoding='latin-1')\n",
    "\n",
    "#Reading ratings file:\n",
    "r_cols = ['user_id', 'movie_id', 'rating', 'unix_timestamp']\n",
    "ratings = pd.read_csv('ml-100k/u.data', sep='\\t', names=r_cols,encoding='latin-1')\n",
    "\n",
    "#Reading items file:\n",
    "i_cols = ['movie id', 'movie title' ,'release date','video release date', 'IMDb URL', 'unknown', 'Action', 'Adventure',\n",
    "'Animation', 'Children\\'s', 'Comedy', 'Crime', 'Documentary', 'Drama', 'Fantasy',\n",
    "'Film-Noir', 'Horror', 'Musical', 'Mystery', 'Romance', 'Sci-Fi', 'Thriller', 'War', 'Western']\n",
    "items = pd.read_csv('ml-100k/u.item', sep='|', names=i_cols,\n",
    "encoding='latin-1')"
   ]
  },
  {
   "cell_type": "code",
   "execution_count": 3,
   "metadata": {},
   "outputs": [
    {
     "name": "stdout",
     "output_type": "stream",
     "text": [
      "(943, 5)\n"
     ]
    },
    {
     "data": {
      "text/html": [
       "<div>\n",
       "<style scoped>\n",
       "    .dataframe tbody tr th:only-of-type {\n",
       "        vertical-align: middle;\n",
       "    }\n",
       "\n",
       "    .dataframe tbody tr th {\n",
       "        vertical-align: top;\n",
       "    }\n",
       "\n",
       "    .dataframe thead th {\n",
       "        text-align: right;\n",
       "    }\n",
       "</style>\n",
       "<table border=\"1\" class=\"dataframe\">\n",
       "  <thead>\n",
       "    <tr style=\"text-align: right;\">\n",
       "      <th></th>\n",
       "      <th>user_id</th>\n",
       "      <th>age</th>\n",
       "      <th>sex</th>\n",
       "      <th>occupation</th>\n",
       "      <th>zip_code</th>\n",
       "    </tr>\n",
       "  </thead>\n",
       "  <tbody>\n",
       "    <tr>\n",
       "      <th>0</th>\n",
       "      <td>1</td>\n",
       "      <td>24</td>\n",
       "      <td>M</td>\n",
       "      <td>technician</td>\n",
       "      <td>85711</td>\n",
       "    </tr>\n",
       "    <tr>\n",
       "      <th>1</th>\n",
       "      <td>2</td>\n",
       "      <td>53</td>\n",
       "      <td>F</td>\n",
       "      <td>other</td>\n",
       "      <td>94043</td>\n",
       "    </tr>\n",
       "    <tr>\n",
       "      <th>2</th>\n",
       "      <td>3</td>\n",
       "      <td>23</td>\n",
       "      <td>M</td>\n",
       "      <td>writer</td>\n",
       "      <td>32067</td>\n",
       "    </tr>\n",
       "    <tr>\n",
       "      <th>3</th>\n",
       "      <td>4</td>\n",
       "      <td>24</td>\n",
       "      <td>M</td>\n",
       "      <td>technician</td>\n",
       "      <td>43537</td>\n",
       "    </tr>\n",
       "    <tr>\n",
       "      <th>4</th>\n",
       "      <td>5</td>\n",
       "      <td>33</td>\n",
       "      <td>F</td>\n",
       "      <td>other</td>\n",
       "      <td>15213</td>\n",
       "    </tr>\n",
       "  </tbody>\n",
       "</table>\n",
       "</div>"
      ],
      "text/plain": [
       "   user_id  age sex  occupation zip_code\n",
       "0        1   24   M  technician    85711\n",
       "1        2   53   F       other    94043\n",
       "2        3   23   M      writer    32067\n",
       "3        4   24   M  technician    43537\n",
       "4        5   33   F       other    15213"
      ]
     },
     "execution_count": 3,
     "metadata": {},
     "output_type": "execute_result"
    }
   ],
   "source": [
    "# users\n",
    "\n",
    "print(users.shape)\n",
    "users.head()"
   ]
  },
  {
   "cell_type": "code",
   "execution_count": 4,
   "metadata": {},
   "outputs": [
    {
     "name": "stdout",
     "output_type": "stream",
     "text": [
      "(100000, 4)\n"
     ]
    },
    {
     "data": {
      "text/html": [
       "<div>\n",
       "<style scoped>\n",
       "    .dataframe tbody tr th:only-of-type {\n",
       "        vertical-align: middle;\n",
       "    }\n",
       "\n",
       "    .dataframe tbody tr th {\n",
       "        vertical-align: top;\n",
       "    }\n",
       "\n",
       "    .dataframe thead th {\n",
       "        text-align: right;\n",
       "    }\n",
       "</style>\n",
       "<table border=\"1\" class=\"dataframe\">\n",
       "  <thead>\n",
       "    <tr style=\"text-align: right;\">\n",
       "      <th></th>\n",
       "      <th>user_id</th>\n",
       "      <th>movie_id</th>\n",
       "      <th>rating</th>\n",
       "      <th>unix_timestamp</th>\n",
       "    </tr>\n",
       "  </thead>\n",
       "  <tbody>\n",
       "    <tr>\n",
       "      <th>0</th>\n",
       "      <td>196</td>\n",
       "      <td>242</td>\n",
       "      <td>3</td>\n",
       "      <td>881250949</td>\n",
       "    </tr>\n",
       "    <tr>\n",
       "      <th>1</th>\n",
       "      <td>186</td>\n",
       "      <td>302</td>\n",
       "      <td>3</td>\n",
       "      <td>891717742</td>\n",
       "    </tr>\n",
       "    <tr>\n",
       "      <th>2</th>\n",
       "      <td>22</td>\n",
       "      <td>377</td>\n",
       "      <td>1</td>\n",
       "      <td>878887116</td>\n",
       "    </tr>\n",
       "    <tr>\n",
       "      <th>3</th>\n",
       "      <td>244</td>\n",
       "      <td>51</td>\n",
       "      <td>2</td>\n",
       "      <td>880606923</td>\n",
       "    </tr>\n",
       "    <tr>\n",
       "      <th>4</th>\n",
       "      <td>166</td>\n",
       "      <td>346</td>\n",
       "      <td>1</td>\n",
       "      <td>886397596</td>\n",
       "    </tr>\n",
       "  </tbody>\n",
       "</table>\n",
       "</div>"
      ],
      "text/plain": [
       "   user_id  movie_id  rating  unix_timestamp\n",
       "0      196       242       3       881250949\n",
       "1      186       302       3       891717742\n",
       "2       22       377       1       878887116\n",
       "3      244        51       2       880606923\n",
       "4      166       346       1       886397596"
      ]
     },
     "execution_count": 4,
     "metadata": {},
     "output_type": "execute_result"
    }
   ],
   "source": [
    "# ratings\n",
    "\n",
    "print(ratings.shape)\n",
    "ratings.head()"
   ]
  },
  {
   "cell_type": "code",
   "execution_count": 5,
   "metadata": {},
   "outputs": [
    {
     "name": "stdout",
     "output_type": "stream",
     "text": [
      "(1682, 24)\n"
     ]
    },
    {
     "data": {
      "text/html": [
       "<div>\n",
       "<style scoped>\n",
       "    .dataframe tbody tr th:only-of-type {\n",
       "        vertical-align: middle;\n",
       "    }\n",
       "\n",
       "    .dataframe tbody tr th {\n",
       "        vertical-align: top;\n",
       "    }\n",
       "\n",
       "    .dataframe thead th {\n",
       "        text-align: right;\n",
       "    }\n",
       "</style>\n",
       "<table border=\"1\" class=\"dataframe\">\n",
       "  <thead>\n",
       "    <tr style=\"text-align: right;\">\n",
       "      <th></th>\n",
       "      <th>movie id</th>\n",
       "      <th>movie title</th>\n",
       "      <th>release date</th>\n",
       "      <th>video release date</th>\n",
       "      <th>IMDb URL</th>\n",
       "      <th>unknown</th>\n",
       "      <th>Action</th>\n",
       "      <th>Adventure</th>\n",
       "      <th>Animation</th>\n",
       "      <th>Children's</th>\n",
       "      <th>...</th>\n",
       "      <th>Fantasy</th>\n",
       "      <th>Film-Noir</th>\n",
       "      <th>Horror</th>\n",
       "      <th>Musical</th>\n",
       "      <th>Mystery</th>\n",
       "      <th>Romance</th>\n",
       "      <th>Sci-Fi</th>\n",
       "      <th>Thriller</th>\n",
       "      <th>War</th>\n",
       "      <th>Western</th>\n",
       "    </tr>\n",
       "  </thead>\n",
       "  <tbody>\n",
       "    <tr>\n",
       "      <th>0</th>\n",
       "      <td>1</td>\n",
       "      <td>Toy Story (1995)</td>\n",
       "      <td>01-Jan-1995</td>\n",
       "      <td>NaN</td>\n",
       "      <td>http://us.imdb.com/M/title-exact?Toy%20Story%2...</td>\n",
       "      <td>0</td>\n",
       "      <td>0</td>\n",
       "      <td>0</td>\n",
       "      <td>1</td>\n",
       "      <td>1</td>\n",
       "      <td>...</td>\n",
       "      <td>0</td>\n",
       "      <td>0</td>\n",
       "      <td>0</td>\n",
       "      <td>0</td>\n",
       "      <td>0</td>\n",
       "      <td>0</td>\n",
       "      <td>0</td>\n",
       "      <td>0</td>\n",
       "      <td>0</td>\n",
       "      <td>0</td>\n",
       "    </tr>\n",
       "    <tr>\n",
       "      <th>1</th>\n",
       "      <td>2</td>\n",
       "      <td>GoldenEye (1995)</td>\n",
       "      <td>01-Jan-1995</td>\n",
       "      <td>NaN</td>\n",
       "      <td>http://us.imdb.com/M/title-exact?GoldenEye%20(...</td>\n",
       "      <td>0</td>\n",
       "      <td>1</td>\n",
       "      <td>1</td>\n",
       "      <td>0</td>\n",
       "      <td>0</td>\n",
       "      <td>...</td>\n",
       "      <td>0</td>\n",
       "      <td>0</td>\n",
       "      <td>0</td>\n",
       "      <td>0</td>\n",
       "      <td>0</td>\n",
       "      <td>0</td>\n",
       "      <td>0</td>\n",
       "      <td>1</td>\n",
       "      <td>0</td>\n",
       "      <td>0</td>\n",
       "    </tr>\n",
       "    <tr>\n",
       "      <th>2</th>\n",
       "      <td>3</td>\n",
       "      <td>Four Rooms (1995)</td>\n",
       "      <td>01-Jan-1995</td>\n",
       "      <td>NaN</td>\n",
       "      <td>http://us.imdb.com/M/title-exact?Four%20Rooms%...</td>\n",
       "      <td>0</td>\n",
       "      <td>0</td>\n",
       "      <td>0</td>\n",
       "      <td>0</td>\n",
       "      <td>0</td>\n",
       "      <td>...</td>\n",
       "      <td>0</td>\n",
       "      <td>0</td>\n",
       "      <td>0</td>\n",
       "      <td>0</td>\n",
       "      <td>0</td>\n",
       "      <td>0</td>\n",
       "      <td>0</td>\n",
       "      <td>1</td>\n",
       "      <td>0</td>\n",
       "      <td>0</td>\n",
       "    </tr>\n",
       "    <tr>\n",
       "      <th>3</th>\n",
       "      <td>4</td>\n",
       "      <td>Get Shorty (1995)</td>\n",
       "      <td>01-Jan-1995</td>\n",
       "      <td>NaN</td>\n",
       "      <td>http://us.imdb.com/M/title-exact?Get%20Shorty%...</td>\n",
       "      <td>0</td>\n",
       "      <td>1</td>\n",
       "      <td>0</td>\n",
       "      <td>0</td>\n",
       "      <td>0</td>\n",
       "      <td>...</td>\n",
       "      <td>0</td>\n",
       "      <td>0</td>\n",
       "      <td>0</td>\n",
       "      <td>0</td>\n",
       "      <td>0</td>\n",
       "      <td>0</td>\n",
       "      <td>0</td>\n",
       "      <td>0</td>\n",
       "      <td>0</td>\n",
       "      <td>0</td>\n",
       "    </tr>\n",
       "    <tr>\n",
       "      <th>4</th>\n",
       "      <td>5</td>\n",
       "      <td>Copycat (1995)</td>\n",
       "      <td>01-Jan-1995</td>\n",
       "      <td>NaN</td>\n",
       "      <td>http://us.imdb.com/M/title-exact?Copycat%20(1995)</td>\n",
       "      <td>0</td>\n",
       "      <td>0</td>\n",
       "      <td>0</td>\n",
       "      <td>0</td>\n",
       "      <td>0</td>\n",
       "      <td>...</td>\n",
       "      <td>0</td>\n",
       "      <td>0</td>\n",
       "      <td>0</td>\n",
       "      <td>0</td>\n",
       "      <td>0</td>\n",
       "      <td>0</td>\n",
       "      <td>0</td>\n",
       "      <td>1</td>\n",
       "      <td>0</td>\n",
       "      <td>0</td>\n",
       "    </tr>\n",
       "  </tbody>\n",
       "</table>\n",
       "<p>5 rows × 24 columns</p>\n",
       "</div>"
      ],
      "text/plain": [
       "   movie id        movie title release date  video release date  \\\n",
       "0         1   Toy Story (1995)  01-Jan-1995                 NaN   \n",
       "1         2   GoldenEye (1995)  01-Jan-1995                 NaN   \n",
       "2         3  Four Rooms (1995)  01-Jan-1995                 NaN   \n",
       "3         4  Get Shorty (1995)  01-Jan-1995                 NaN   \n",
       "4         5     Copycat (1995)  01-Jan-1995                 NaN   \n",
       "\n",
       "                                            IMDb URL  unknown  Action  \\\n",
       "0  http://us.imdb.com/M/title-exact?Toy%20Story%2...        0       0   \n",
       "1  http://us.imdb.com/M/title-exact?GoldenEye%20(...        0       1   \n",
       "2  http://us.imdb.com/M/title-exact?Four%20Rooms%...        0       0   \n",
       "3  http://us.imdb.com/M/title-exact?Get%20Shorty%...        0       1   \n",
       "4  http://us.imdb.com/M/title-exact?Copycat%20(1995)        0       0   \n",
       "\n",
       "   Adventure  Animation  Children's   ...     Fantasy  Film-Noir  Horror  \\\n",
       "0          0          1           1   ...           0          0       0   \n",
       "1          1          0           0   ...           0          0       0   \n",
       "2          0          0           0   ...           0          0       0   \n",
       "3          0          0           0   ...           0          0       0   \n",
       "4          0          0           0   ...           0          0       0   \n",
       "\n",
       "   Musical  Mystery  Romance  Sci-Fi  Thriller  War  Western  \n",
       "0        0        0        0       0         0    0        0  \n",
       "1        0        0        0       0         1    0        0  \n",
       "2        0        0        0       0         1    0        0  \n",
       "3        0        0        0       0         0    0        0  \n",
       "4        0        0        0       0         1    0        0  \n",
       "\n",
       "[5 rows x 24 columns]"
      ]
     },
     "execution_count": 5,
     "metadata": {},
     "output_type": "execute_result"
    }
   ],
   "source": [
    "# items\n",
    "\n",
    "print(items.shape)\n",
    "items.head()"
   ]
  },
  {
   "cell_type": "code",
   "execution_count": 6,
   "metadata": {},
   "outputs": [
    {
     "data": {
      "text/plain": [
       "((90570, 4), (9430, 4))"
      ]
     },
     "execution_count": 6,
     "metadata": {},
     "output_type": "execute_result"
    }
   ],
   "source": [
    "# train test data\n",
    "# test data has 10 ratings for each user, i.e. 9,430 rows in total\n",
    "\n",
    "r_cols = ['user_id', 'movie_id', 'rating', 'unix_timestamp']\n",
    "ratings_train = pd.read_csv('ml-100k/ua.base', sep='\\t', names=r_cols, encoding='latin-1')\n",
    "ratings_test = pd.read_csv('ml-100k/ua.test', sep='\\t', names=r_cols, encoding='latin-1')\n",
    "ratings_train.shape, ratings_test.shape"
   ]
  },
  {
   "cell_type": "markdown",
   "metadata": {},
   "source": [
    "# Building collaborative filtering model from scratch"
   ]
  },
  {
   "cell_type": "code",
   "execution_count": 7,
   "metadata": {},
   "outputs": [
    {
     "data": {
      "text/plain": [
       "(943, 1682)"
      ]
     },
     "execution_count": 7,
     "metadata": {},
     "output_type": "execute_result"
    }
   ],
   "source": [
    "n_users = ratings.user_id.unique().shape[0]\n",
    "n_items = ratings.movie_id.unique().shape[0]\n",
    "\n",
    "n_users, n_items"
   ]
  },
  {
   "cell_type": "code",
   "execution_count": 32,
   "metadata": {},
   "outputs": [
    {
     "data": {
      "text/plain": [
       "array([[5., 3., 4., ..., 0., 0., 0.],\n",
       "       [4., 0., 0., ..., 0., 0., 0.],\n",
       "       [0., 0., 0., ..., 0., 0., 0.],\n",
       "       ...,\n",
       "       [5., 0., 0., ..., 0., 0., 0.],\n",
       "       [0., 0., 0., ..., 0., 0., 0.],\n",
       "       [0., 5., 0., ..., 0., 0., 0.]])"
      ]
     },
     "execution_count": 32,
     "metadata": {},
     "output_type": "execute_result"
    }
   ],
   "source": [
    "# from ratings df to matrix\n",
    "# matrix of user_id vs movie_id (initially startes from 1, minus 1 to be 0)\n",
    "\n",
    "\n",
    "data_matrix = np.zeros((n_users, n_items))\n",
    "# print(data_matrix)\n",
    "\n",
    "for line in ratings.itertuples():\n",
    "#     print(data_matrix[line[1]-1, line[2]-1], end='')\n",
    "    data_matrix[line[1]-1, line[2]-1] = line[3]\n",
    "#     print(' -> ' + str(data_matrix[line[1]-1, line[2]-1]))\n",
    "\n",
    "\n",
    "data_matrix"
   ]
  },
  {
   "cell_type": "code",
   "execution_count": 28,
   "metadata": {},
   "outputs": [
    {
     "data": {
      "text/plain": [
       "(array([[0.        , 0.83306902, 0.95254046, ..., 0.85138306, 0.82049212,\n",
       "         0.60182526],\n",
       "        [0.83306902, 0.        , 0.88940868, ..., 0.83851522, 0.82773219,\n",
       "         0.89420212],\n",
       "        [0.95254046, 0.88940868, 0.        , ..., 0.89875744, 0.86658385,\n",
       "         0.97344413],\n",
       "        ...,\n",
       "        [0.85138306, 0.83851522, 0.89875744, ..., 0.        , 0.8983582 ,\n",
       "         0.90488042],\n",
       "        [0.82049212, 0.82773219, 0.86658385, ..., 0.8983582 , 0.        ,\n",
       "         0.81753534],\n",
       "        [0.60182526, 0.89420212, 0.97344413, ..., 0.90488042, 0.81753534,\n",
       "         0.        ]]),\n",
       " array([[0.        , 0.59761782, 0.66975521, ..., 1.        , 0.95281693,\n",
       "         0.95281693],\n",
       "        [0.59761782, 0.        , 0.72693082, ..., 1.        , 0.92170064,\n",
       "         0.92170064],\n",
       "        [0.66975521, 0.72693082, 0.        , ..., 1.        , 1.        ,\n",
       "         0.90312495],\n",
       "        ...,\n",
       "        [1.        , 1.        , 1.        , ..., 0.        , 1.        ,\n",
       "         1.        ],\n",
       "        [0.95281693, 0.92170064, 1.        , ..., 1.        , 0.        ,\n",
       "         1.        ],\n",
       "        [0.95281693, 0.92170064, 0.90312495, ..., 1.        , 1.        ,\n",
       "         0.        ]]))"
      ]
     },
     "execution_count": 28,
     "metadata": {},
     "output_type": "execute_result"
    }
   ],
   "source": [
    "from sklearn.metrics.pairwise import pairwise_distances \n",
    "user_similarity = pairwise_distances(data_matrix, metric='cosine')\n",
    "item_similarity = pairwise_distances(data_matrix.T, metric='cosine')\n",
    "\n",
    "user_similarity, item_similarity"
   ]
  },
  {
   "cell_type": "code",
   "execution_count": 10,
   "metadata": {},
   "outputs": [],
   "source": [
    "def predict(ratings, similarity, type='user'):\n",
    "    if type == 'user':\n",
    "        mean_user_rating = ratings.mean(axis=1)\n",
    "        #We use np.newaxis so that mean_user_rating has same format as ratings\n",
    "        ratings_diff = (ratings - mean_user_rating[:, np.newaxis])\n",
    "        pred = mean_user_rating[:, np.newaxis] + similarity.dot(ratings_diff) / np.array([np.abs(similarity).sum(axis=1)]).T\n",
    "    elif type == 'item':\n",
    "        pred = ratings.dot(similarity) / np.array([np.abs(similarity).sum(axis=1)])\n",
    "    return pred"
   ]
  },
  {
   "cell_type": "code",
   "execution_count": 11,
   "metadata": {},
   "outputs": [],
   "source": [
    "user_prediction = predict(data_matrix, user_similarity, type='user')\n",
    "item_prediction = predict(data_matrix, item_similarity, type='item')"
   ]
  },
  {
   "cell_type": "markdown",
   "metadata": {},
   "source": [
    "# Building a simple popularity and collaborative filtering model using Turicreate"
   ]
  },
  {
   "cell_type": "code",
   "execution_count": 12,
   "metadata": {},
   "outputs": [
    {
     "name": "stderr",
     "output_type": "stream",
     "text": [
      "/home/hectoryee/anaconda3/lib/python3.6/site-packages/h5py/__init__.py:36: FutureWarning: Conversion of the second argument of issubdtype from `float` to `np.floating` is deprecated. In future, it will be treated as `np.float64 == np.dtype(float).type`.\n",
      "  from ._conv import register_converters as _register_converters\n"
     ]
    }
   ],
   "source": [
    "import turicreate\n",
    "train_data = turicreate.SFrame(ratings_train)\n",
    "test_data = turicreate.SFrame(ratings_test)"
   ]
  },
  {
   "cell_type": "markdown",
   "metadata": {},
   "source": [
    "## Popularity Model"
   ]
  },
  {
   "cell_type": "code",
   "execution_count": 13,
   "metadata": {},
   "outputs": [
    {
     "data": {
      "text/html": [
       "<pre>Recsys training: model = popularity</pre>"
      ],
      "text/plain": [
       "Recsys training: model = popularity"
      ]
     },
     "metadata": {},
     "output_type": "display_data"
    },
    {
     "data": {
      "text/html": [
       "<pre>Warning: Ignoring columns unix_timestamp;</pre>"
      ],
      "text/plain": [
       "Warning: Ignoring columns unix_timestamp;"
      ]
     },
     "metadata": {},
     "output_type": "display_data"
    },
    {
     "data": {
      "text/html": [
       "<pre>    To use these columns in scoring predictions, use a model that allows the use of additional features.</pre>"
      ],
      "text/plain": [
       "    To use these columns in scoring predictions, use a model that allows the use of additional features."
      ]
     },
     "metadata": {},
     "output_type": "display_data"
    },
    {
     "data": {
      "text/html": [
       "<pre>Preparing data set.</pre>"
      ],
      "text/plain": [
       "Preparing data set."
      ]
     },
     "metadata": {},
     "output_type": "display_data"
    },
    {
     "data": {
      "text/html": [
       "<pre>    Data has 90570 observations with 943 users and 1680 items.</pre>"
      ],
      "text/plain": [
       "    Data has 90570 observations with 943 users and 1680 items."
      ]
     },
     "metadata": {},
     "output_type": "display_data"
    },
    {
     "data": {
      "text/html": [
       "<pre>    Data prepared in: 0.087647s</pre>"
      ],
      "text/plain": [
       "    Data prepared in: 0.087647s"
      ]
     },
     "metadata": {},
     "output_type": "display_data"
    },
    {
     "data": {
      "text/html": [
       "<pre>90570 observations to process; with 1680 unique items.</pre>"
      ],
      "text/plain": [
       "90570 observations to process; with 1680 unique items."
      ]
     },
     "metadata": {},
     "output_type": "display_data"
    }
   ],
   "source": [
    "popularity_model = turicreate.popularity_recommender.create(train_data, user_id='user_id', item_id='movie_id', target='rating')"
   ]
  },
  {
   "cell_type": "code",
   "execution_count": 14,
   "metadata": {},
   "outputs": [
    {
     "name": "stdout",
     "output_type": "stream",
     "text": [
      "+---------+----------+-------+------+\n",
      "| user_id | movie_id | score | rank |\n",
      "+---------+----------+-------+------+\n",
      "|    1    |   1467   |  5.0  |  1   |\n",
      "|    1    |   1201   |  5.0  |  2   |\n",
      "|    1    |   1189   |  5.0  |  3   |\n",
      "|    1    |   1122   |  5.0  |  4   |\n",
      "|    1    |   814    |  5.0  |  5   |\n",
      "|    2    |   1467   |  5.0  |  1   |\n",
      "|    2    |   1201   |  5.0  |  2   |\n",
      "|    2    |   1189   |  5.0  |  3   |\n",
      "|    2    |   1122   |  5.0  |  4   |\n",
      "|    2    |   814    |  5.0  |  5   |\n",
      "|    3    |   1467   |  5.0  |  1   |\n",
      "|    3    |   1201   |  5.0  |  2   |\n",
      "|    3    |   1189   |  5.0  |  3   |\n",
      "|    3    |   1122   |  5.0  |  4   |\n",
      "|    3    |   814    |  5.0  |  5   |\n",
      "|    4    |   1467   |  5.0  |  1   |\n",
      "|    4    |   1201   |  5.0  |  2   |\n",
      "|    4    |   1189   |  5.0  |  3   |\n",
      "|    4    |   1122   |  5.0  |  4   |\n",
      "|    4    |   814    |  5.0  |  5   |\n",
      "|    5    |   1467   |  5.0  |  1   |\n",
      "|    5    |   1201   |  5.0  |  2   |\n",
      "|    5    |   1189   |  5.0  |  3   |\n",
      "|    5    |   1122   |  5.0  |  4   |\n",
      "|    5    |   814    |  5.0  |  5   |\n",
      "+---------+----------+-------+------+\n",
      "[25 rows x 4 columns]\n",
      "\n"
     ]
    }
   ],
   "source": [
    "popularity_recomm = popularity_model.recommend(users=[1,2,3,4,5],k=5)\n",
    "popularity_recomm.print_rows(num_rows=25)"
   ]
  },
  {
   "cell_type": "markdown",
   "metadata": {},
   "source": [
    "## Item similarity model"
   ]
  },
  {
   "cell_type": "code",
   "execution_count": 15,
   "metadata": {},
   "outputs": [
    {
     "data": {
      "text/html": [
       "<pre>Recsys training: model = item_similarity</pre>"
      ],
      "text/plain": [
       "Recsys training: model = item_similarity"
      ]
     },
     "metadata": {},
     "output_type": "display_data"
    },
    {
     "data": {
      "text/html": [
       "<pre>Warning: Ignoring columns unix_timestamp;</pre>"
      ],
      "text/plain": [
       "Warning: Ignoring columns unix_timestamp;"
      ]
     },
     "metadata": {},
     "output_type": "display_data"
    },
    {
     "data": {
      "text/html": [
       "<pre>    To use these columns in scoring predictions, use a model that allows the use of additional features.</pre>"
      ],
      "text/plain": [
       "    To use these columns in scoring predictions, use a model that allows the use of additional features."
      ]
     },
     "metadata": {},
     "output_type": "display_data"
    },
    {
     "data": {
      "text/html": [
       "<pre>Preparing data set.</pre>"
      ],
      "text/plain": [
       "Preparing data set."
      ]
     },
     "metadata": {},
     "output_type": "display_data"
    },
    {
     "data": {
      "text/html": [
       "<pre>    Data has 90570 observations with 943 users and 1680 items.</pre>"
      ],
      "text/plain": [
       "    Data has 90570 observations with 943 users and 1680 items."
      ]
     },
     "metadata": {},
     "output_type": "display_data"
    },
    {
     "data": {
      "text/html": [
       "<pre>    Data prepared in: 0.07152s</pre>"
      ],
      "text/plain": [
       "    Data prepared in: 0.07152s"
      ]
     },
     "metadata": {},
     "output_type": "display_data"
    },
    {
     "data": {
      "text/html": [
       "<pre>Training model from provided data.</pre>"
      ],
      "text/plain": [
       "Training model from provided data."
      ]
     },
     "metadata": {},
     "output_type": "display_data"
    },
    {
     "data": {
      "text/html": [
       "<pre>Gathering per-item and per-user statistics.</pre>"
      ],
      "text/plain": [
       "Gathering per-item and per-user statistics."
      ]
     },
     "metadata": {},
     "output_type": "display_data"
    },
    {
     "data": {
      "text/html": [
       "<pre>+--------------------------------+------------+</pre>"
      ],
      "text/plain": [
       "+--------------------------------+------------+"
      ]
     },
     "metadata": {},
     "output_type": "display_data"
    },
    {
     "data": {
      "text/html": [
       "<pre>| Elapsed Time (Item Statistics) | % Complete |</pre>"
      ],
      "text/plain": [
       "| Elapsed Time (Item Statistics) | % Complete |"
      ]
     },
     "metadata": {},
     "output_type": "display_data"
    },
    {
     "data": {
      "text/html": [
       "<pre>+--------------------------------+------------+</pre>"
      ],
      "text/plain": [
       "+--------------------------------+------------+"
      ]
     },
     "metadata": {},
     "output_type": "display_data"
    },
    {
     "data": {
      "text/html": [
       "<pre>| 15.53ms                        | 100        |</pre>"
      ],
      "text/plain": [
       "| 15.53ms                        | 100        |"
      ]
     },
     "metadata": {},
     "output_type": "display_data"
    },
    {
     "data": {
      "text/html": [
       "<pre>+--------------------------------+------------+</pre>"
      ],
      "text/plain": [
       "+--------------------------------+------------+"
      ]
     },
     "metadata": {},
     "output_type": "display_data"
    },
    {
     "data": {
      "text/html": [
       "<pre>Setting up lookup tables.</pre>"
      ],
      "text/plain": [
       "Setting up lookup tables."
      ]
     },
     "metadata": {},
     "output_type": "display_data"
    },
    {
     "data": {
      "text/html": [
       "<pre>Processing data in one pass using dense lookup tables.</pre>"
      ],
      "text/plain": [
       "Processing data in one pass using dense lookup tables."
      ]
     },
     "metadata": {},
     "output_type": "display_data"
    },
    {
     "data": {
      "text/html": [
       "<pre>+-------------------------------------+------------------+-----------------+</pre>"
      ],
      "text/plain": [
       "+-------------------------------------+------------------+-----------------+"
      ]
     },
     "metadata": {},
     "output_type": "display_data"
    },
    {
     "data": {
      "text/html": [
       "<pre>| Elapsed Time (Constructing Lookups) | Total % Complete | Items Processed |</pre>"
      ],
      "text/plain": [
       "| Elapsed Time (Constructing Lookups) | Total % Complete | Items Processed |"
      ]
     },
     "metadata": {},
     "output_type": "display_data"
    },
    {
     "data": {
      "text/html": [
       "<pre>+-------------------------------------+------------------+-----------------+</pre>"
      ],
      "text/plain": [
       "+-------------------------------------+------------------+-----------------+"
      ]
     },
     "metadata": {},
     "output_type": "display_data"
    },
    {
     "data": {
      "text/html": [
       "<pre>| 29.053ms                            | 0                | 0               |</pre>"
      ],
      "text/plain": [
       "| 29.053ms                            | 0                | 0               |"
      ]
     },
     "metadata": {},
     "output_type": "display_data"
    },
    {
     "data": {
      "text/html": [
       "<pre>| 203.173ms                           | 100              | 1680            |</pre>"
      ],
      "text/plain": [
       "| 203.173ms                           | 100              | 1680            |"
      ]
     },
     "metadata": {},
     "output_type": "display_data"
    },
    {
     "data": {
      "text/html": [
       "<pre>+-------------------------------------+------------------+-----------------+</pre>"
      ],
      "text/plain": [
       "+-------------------------------------+------------------+-----------------+"
      ]
     },
     "metadata": {},
     "output_type": "display_data"
    },
    {
     "data": {
      "text/html": [
       "<pre>Finalizing lookup tables.</pre>"
      ],
      "text/plain": [
       "Finalizing lookup tables."
      ]
     },
     "metadata": {},
     "output_type": "display_data"
    },
    {
     "data": {
      "text/html": [
       "<pre>Generating candidate set for working with new users.</pre>"
      ],
      "text/plain": [
       "Generating candidate set for working with new users."
      ]
     },
     "metadata": {},
     "output_type": "display_data"
    },
    {
     "data": {
      "text/html": [
       "<pre>Finished training in 1.21793s</pre>"
      ],
      "text/plain": [
       "Finished training in 1.21793s"
      ]
     },
     "metadata": {},
     "output_type": "display_data"
    },
    {
     "name": "stdout",
     "output_type": "stream",
     "text": [
      "+---------+----------+--------------------+------+\n",
      "| user_id | movie_id |       score        | rank |\n",
      "+---------+----------+--------------------+------+\n",
      "|    1    |   423    | 0.982942669901229  |  1   |\n",
      "|    1    |   202    | 0.9614982284207381 |  2   |\n",
      "|    1    |   655    | 0.8147707440470922 |  3   |\n",
      "|    1    |   403    | 0.7692543058904983 |  4   |\n",
      "|    1    |   568    | 0.7568556511675129 |  5   |\n",
      "|    2    |    50    | 1.1256258487701416 |  1   |\n",
      "|    2    |   181    | 1.0320649284582872 |  2   |\n",
      "|    2    |   121    | 0.8881093974296863 |  3   |\n",
      "|    2    |    9     | 0.8518216059758112 |  4   |\n",
      "|    2    |   117    | 0.7926051295720614 |  5   |\n",
      "|    3    |   313    | 0.6353766620159149 |  1   |\n",
      "|    3    |   328    | 0.6032880300825293 |  2   |\n",
      "|    3    |   315    | 0.5422587123784152 |  3   |\n",
      "|    3    |   331    | 0.5355071858926252 |  4   |\n",
      "|    3    |   332    | 0.5316696112806146 |  5   |\n",
      "|    4    |    50    | 1.1311477082116264 |  1   |\n",
      "|    4    |   288    | 1.0487151145935059 |  2   |\n",
      "|    4    |   181    | 0.9505999386310577 |  3   |\n",
      "|    4    |   302    | 0.9139021464756557 |  4   |\n",
      "|    4    |   121    | 0.8993381602423531 |  5   |\n",
      "|    5    |   195    | 1.0106911612279488 |  1   |\n",
      "|    5    |   202    | 0.9353599468866984 |  2   |\n",
      "|    5    |    56    | 0.8479394096316714 |  3   |\n",
      "|    5    |    82    | 0.7547974543137984 |  4   |\n",
      "|    5    |   568    | 0.721097964590246  |  5   |\n",
      "+---------+----------+--------------------+------+\n",
      "[25 rows x 4 columns]\n",
      "\n"
     ]
    }
   ],
   "source": [
    "#Training the model\n",
    "item_sim_model = turicreate.item_similarity_recommender.create(train_data, user_id='user_id', item_id='movie_id', target='rating', similarity_type='cosine')\n",
    "\n",
    "#Making recommendations\n",
    "item_sim_recomm = item_sim_model.recommend(users=[1,2,3,4,5],k=5)\n",
    "item_sim_recomm.print_rows(num_rows=25)"
   ]
  },
  {
   "cell_type": "markdown",
   "metadata": {},
   "source": [
    "# Introduction to matrix factorization"
   ]
  },
  {
   "cell_type": "code",
   "execution_count": 16,
   "metadata": {},
   "outputs": [],
   "source": [
    "class MF():\n",
    "\n",
    "    # Initializing the user-movie rating matrix, no. of latent features, alpha and beta.\n",
    "    def __init__(self, R, K, alpha, beta, iterations):\n",
    "        self.R = R\n",
    "        self.num_users, self.num_items = R.shape\n",
    "        self.K = K\n",
    "        self.alpha = alpha\n",
    "        self.beta = beta\n",
    "        self.iterations = iterations\n",
    "\n",
    "    # Initializing user-feature and movie-feature matrix \n",
    "    def train(self):\n",
    "        self.P = np.random.normal(scale=1./self.K, size=(self.num_users, self.K))\n",
    "        self.Q = np.random.normal(scale=1./self.K, size=(self.num_items, self.K))\n",
    "\n",
    "        # Initializing the bias terms\n",
    "        self.b_u = np.zeros(self.num_users)\n",
    "        self.b_i = np.zeros(self.num_items)\n",
    "        self.b = np.mean(self.R[np.where(self.R != 0)])\n",
    "\n",
    "        # List of training samples\n",
    "        self.samples = [\n",
    "        (i, j, self.R[i, j])\n",
    "        for i in range(self.num_users)\n",
    "        for j in range(self.num_items)\n",
    "        if self.R[i, j] > 0\n",
    "        ]\n",
    "\n",
    "        # Stochastic gradient descent for given number of iterations\n",
    "        training_process = []\n",
    "        for i in range(self.iterations):\n",
    "            np.random.shuffle(self.samples)\n",
    "            self.sgd()\n",
    "            mse = self.mse()\n",
    "            training_process.append((i, mse))\n",
    "            if (i+1) % 20 == 0:\n",
    "                print(\"Iteration: %d ; error = %.4f\" % (i+1, mse))\n",
    "\n",
    "        return training_process\n",
    "\n",
    "    # Computing total mean squared error\n",
    "    def mse(self):\n",
    "        xs, ys = self.R.nonzero()\n",
    "        predicted = self.full_matrix()\n",
    "        error = 0\n",
    "        for x, y in zip(xs, ys):\n",
    "            error += pow(self.R[x, y] - predicted[x, y], 2)\n",
    "        return np.sqrt(error)\n",
    "\n",
    "    # Stochastic gradient descent to get optimized P and Q matrix\n",
    "    def sgd(self):\n",
    "        for i, j, r in self.samples:\n",
    "            prediction = self.get_rating(i, j)\n",
    "            e = (r - prediction)\n",
    "\n",
    "            self.b_u[i] += self.alpha * (e - self.beta * self.b_u[i])\n",
    "            self.b_i[j] += self.alpha * (e - self.beta * self.b_i[j])\n",
    "\n",
    "            self.P[i, :] += self.alpha * (e * self.Q[j, :] - self.beta * self.P[i,:])\n",
    "            self.Q[j, :] += self.alpha * (e * self.P[i, :] - self.beta * self.Q[j,:])\n",
    "\n",
    "    # Ratings for user i and moive j\n",
    "    def get_rating(self, i, j):\n",
    "        prediction = self.b + self.b_u[i] + self.b_i[j] + self.P[i, :].dot(self.Q[j, :].T)\n",
    "        return prediction\n",
    "\n",
    "    # Full user-movie rating matrix\n",
    "    def full_matrix(self):\n",
    "        return mf.b + mf.b_u[:,np.newaxis] + mf.b_i[np.newaxis:,] + mf.P.dot(mf.Q.T)"
   ]
  },
  {
   "cell_type": "code",
   "execution_count": 17,
   "metadata": {},
   "outputs": [
    {
     "data": {
      "text/plain": [
       "array([[5., 3., 4., ..., 0., 0., 0.],\n",
       "       [4., 0., 0., ..., 0., 0., 0.],\n",
       "       [0., 0., 0., ..., 0., 0., 0.],\n",
       "       ...,\n",
       "       [5., 0., 0., ..., 0., 0., 0.],\n",
       "       [0., 0., 0., ..., 0., 0., 0.],\n",
       "       [0., 5., 0., ..., 0., 0., 0.]])"
      ]
     },
     "execution_count": 17,
     "metadata": {},
     "output_type": "execute_result"
    }
   ],
   "source": [
    "R= np.array(ratings.pivot(index = 'user_id', columns ='movie_id', values = 'rating').fillna(0))\n",
    "R"
   ]
  },
  {
   "cell_type": "code",
   "execution_count": 18,
   "metadata": {},
   "outputs": [
    {
     "name": "stdout",
     "output_type": "stream",
     "text": [
      "Iteration: 20 ; error = 296.1325\n",
      "Iteration: 40 ; error = 291.0519\n",
      "Iteration: 60 ; error = 287.5909\n",
      "Iteration: 80 ; error = 281.9718\n",
      "Iteration: 100 ; error = 272.2906\n",
      "\n",
      "P x Q:\n",
      "[[4.00535256 3.31045488 3.11636917 ... 3.2950946  3.44166147 3.43675989]\n",
      " [3.86031422 3.34903982 3.11688533 ... 3.4284075  3.50678982 3.45245481]\n",
      " [3.29250521 2.76686158 2.60176068 ... 2.81387102 2.9256262  2.90871593]\n",
      " ...\n",
      " [4.24605528 3.66141448 3.41758339 ... 3.61939492 3.77085881 3.74927036]\n",
      " [4.38748825 3.78136557 3.58499026 ... 3.75360623 3.90545625 3.87042259]\n",
      " [3.88444563 3.29522711 2.93870566 ... 3.30281914 3.41371739 3.33833404]]\n",
      "\n"
     ]
    }
   ],
   "source": [
    "mf = MF(R, K=20, alpha=0.001, beta=0.01, iterations=100)\n",
    "training_process = mf.train()\n",
    "print()\n",
    "print(\"P x Q:\")\n",
    "print(mf.full_matrix())\n",
    "print()"
   ]
  },
  {
   "cell_type": "code",
   "execution_count": 19,
   "metadata": {},
   "outputs": [
    {
     "data": {
      "text/plain": [
       "(array([[-6.58043056e-02, -5.97506439e-03,  6.13255533e-03, ...,\n",
       "          1.02599859e-03, -3.98164955e-03,  9.01590568e-04],\n",
       "        [-1.40210432e-02,  4.66260235e-02, -5.25785570e-02, ...,\n",
       "          1.08597866e-02, -2.04456480e-03, -1.27743484e-03],\n",
       "        [-5.65798108e-03,  2.56184475e-02, -2.33618292e-02, ...,\n",
       "          5.16234564e-03,  1.34125699e-02,  1.37991290e-03],\n",
       "        ...,\n",
       "        [-7.44452122e-03,  2.50212869e-02, -6.16532475e-03, ...,\n",
       "          2.63658734e-02,  3.18613301e-03,  6.76975924e-03],\n",
       "        [-2.40311860e-02, -8.09611360e-03, -2.28873569e-02, ...,\n",
       "         -4.44753529e-03, -2.58792477e-03, -5.73382835e-03],\n",
       "        [-4.22420915e-02,  1.09271486e-02,  5.85460445e-02, ...,\n",
       "          6.50642742e-04, -4.15913263e-03, -6.67710004e-05]]),\n",
       " array([640.63362257, 244.83634567, 217.84622472, 159.15359872,\n",
       "        158.21191449, 145.87261327, 126.57977314, 121.90769976,\n",
       "        106.8291837 ,  99.74793974,  93.79885965,  93.25844284,\n",
       "         89.91150168,  84.34178722,  83.81220836,  81.81204105,\n",
       "         79.07796788,  77.88652669,  76.387996  ,  75.3415951 ,\n",
       "         73.68235502,  72.80837191,  72.51350545,  71.52749477,\n",
       "         69.77179735,  69.10881715,  68.8735702 ,  67.94277928,\n",
       "         67.40829434,  67.06352378,  66.85757418,  65.59270059,\n",
       "         65.27526042,  64.79965625,  64.44727664,  64.09819141,\n",
       "         63.91638042,  63.08261122,  62.67586971,  62.23742793,\n",
       "         62.03574728,  61.77291401,  61.33544177,  61.0632462 ,\n",
       "         60.56817026,  60.30813928,  59.77166759,  59.51420996,\n",
       "         59.40675   ,  59.10683763,  58.83667955,  58.53445585,\n",
       "         58.33802154,  58.1323194 ,  57.41759146,  57.36384311,\n",
       "         57.30977341,  56.99448748,  56.72636608,  56.239748  ,\n",
       "         56.17894513,  55.8734678 ,  55.65459359,  55.52806678,\n",
       "         55.43375993,  55.27561765,  55.14548051,  54.98490817,\n",
       "         54.63212706,  54.45193672,  54.29005995,  54.01215018,\n",
       "         53.67085648,  53.43798888,  53.28922052,  53.14066852,\n",
       "         53.10828717,  52.47629267,  52.36454294,  52.12939421,\n",
       "         52.03388143,  51.884001  ,  51.77919228,  51.51949717,\n",
       "         51.49442535,  51.2088558 ,  50.98724031,  50.94523431,\n",
       "         50.60038346,  50.56218444,  50.38096012,  50.24905972,\n",
       "         50.0075852 ,  49.98820164,  49.58184826,  49.46698101,\n",
       "         49.37750227,  49.26905278,  49.05980651,  48.95598046,\n",
       "         48.73864248,  48.58766248,  48.47973017,  48.37741946,\n",
       "         48.15394586,  48.0677836 ,  47.75996437,  47.46285726,\n",
       "         47.29469417,  47.16545339,  47.0120192 ,  46.92778602,\n",
       "         46.81663127,  46.80792506,  46.57054499,  46.36360148,\n",
       "         46.234346  ,  46.06920463,  45.94993855,  45.8465522 ,\n",
       "         45.64930074,  45.58376568,  45.51449116,  45.23500555,\n",
       "         45.193367  ,  45.0259966 ,  44.81923737,  44.61901625,\n",
       "         44.55266828,  44.26345327,  44.2281026 ,  44.12002977,\n",
       "         44.04185395,  43.92249088,  43.70643086,  43.46264155,\n",
       "         43.41113197,  43.30866294,  43.18333029,  42.90679285,\n",
       "         42.81874398,  42.76083728,  42.67214215,  42.66639065,\n",
       "         42.42004077,  42.21347424,  42.17252098,  42.01444026,\n",
       "         41.92915185,  41.75732136,  41.54243564,  41.38737569,\n",
       "         41.24503863,  41.14118681,  41.06222267,  40.93112231,\n",
       "         40.79431012,  40.68728985,  40.62458749,  40.5355834 ,\n",
       "         40.46789029,  40.43495829,  40.18134408,  39.96144252,\n",
       "         39.88603128,  39.85469744,  39.71629242,  39.61350954,\n",
       "         39.55844111,  39.45059058,  39.36901842,  39.29731992,\n",
       "         39.08049644,  39.00068725,  38.87717922,  38.76443542,\n",
       "         38.69300514,  38.49197454,  38.29875302,  38.2295438 ,\n",
       "         38.20200371,  38.04062639,  37.98567822,  37.79639662,\n",
       "         37.69119613,  37.65912518,  37.43412368,  37.37183267,\n",
       "         37.24695778,  37.17562544,  37.06973321,  36.99579956,\n",
       "         36.86176606,  36.60418275,  36.54482124,  36.51069682,\n",
       "         36.37602783,  36.28942284,  36.19896141,  36.14966514,\n",
       "         36.0195911 ,  35.86685331,  35.80047839,  35.58582071,\n",
       "         35.50131745,  35.39966081,  35.31413996,  35.16297395,\n",
       "         35.12206623,  35.0293682 ,  34.92618879,  34.83645218,\n",
       "         34.74870882,  34.56715182,  34.46826839,  34.35656323,\n",
       "         34.31454169,  34.19188309,  34.13745828,  33.97983923,\n",
       "         33.95032005,  33.85504342,  33.80476488,  33.65091156,\n",
       "         33.56782848,  33.47451244,  33.45777751,  33.23104015,\n",
       "         33.21632163,  33.10805589,  32.96652158,  32.90277383,\n",
       "         32.80222349,  32.73727372,  32.61340972,  32.47209522,\n",
       "         32.36199179,  32.27083184,  32.23208823,  32.04741273,\n",
       "         32.0133226 ,  31.98127519,  31.84249138,  31.75346623,\n",
       "         31.69558397,  31.55158681,  31.54264271,  31.46544043,\n",
       "         31.40719933,  31.34838912,  31.22501826,  31.17479956,\n",
       "         31.07462435,  30.98626538,  30.85258282,  30.76819776,\n",
       "         30.66966849,  30.55534584,  30.39521622,  30.2688682 ,\n",
       "         30.20379674,  30.17789017,  30.06179315,  30.02649963,\n",
       "         29.89115458,  29.75911854,  29.6886983 ,  29.65205276,\n",
       "         29.57363261,  29.48550453,  29.35508324,  29.29344585,\n",
       "         29.26102237,  29.18103918,  29.11116115,  29.07166993,\n",
       "         28.88168442,  28.78836405,  28.69938278,  28.65925383,\n",
       "         28.5801334 ,  28.50233475,  28.4316208 ,  28.3988056 ,\n",
       "         28.344289  ,  28.27129924,  28.1649344 ,  28.02891204,\n",
       "         28.01098356,  27.95214859,  27.89063118,  27.81887974,\n",
       "         27.70486323,  27.56984489,  27.52363189,  27.45327435,\n",
       "         27.37554002,  27.3033821 ,  27.17403396,  27.10273202,\n",
       "         27.00351207,  26.98164029,  26.92812578,  26.86380024,\n",
       "         26.77542871,  26.64330871,  26.57986122,  26.50312147,\n",
       "         26.47835341,  26.35955465,  26.24273897,  26.15220939,\n",
       "         26.13877889,  26.03958905,  26.02487809,  25.93100402,\n",
       "         25.76975955,  25.72008748,  25.66619331,  25.6292937 ,\n",
       "         25.56815546,  25.50158477,  25.43270457,  25.36179459,\n",
       "         25.32228233,  25.23580855,  25.12135952,  25.1056309 ,\n",
       "         25.00201524,  24.93082741,  24.83440959,  24.76067427,\n",
       "         24.73382195,  24.6978669 ,  24.61220857,  24.52805568,\n",
       "         24.40259869,  24.39965581,  24.31619207,  24.26077745,\n",
       "         24.18077999,  24.0585164 ,  23.98990561,  23.90601653,\n",
       "         23.82330558,  23.70670897,  23.63499915,  23.6215132 ,\n",
       "         23.59127136,  23.52760133,  23.44137806,  23.34885949,\n",
       "         23.33543148,  23.30024708,  23.03966393,  23.02943565,\n",
       "         22.9270182 ,  22.85919275,  22.79688968,  22.74934687,\n",
       "         22.71438322,  22.61995127,  22.50427919,  22.4771171 ,\n",
       "         22.37418403,  22.32768453,  22.2882165 ,  22.25214867,\n",
       "         22.15458253,  22.11327024,  22.04404498,  21.98279668,\n",
       "         21.92253644,  21.88286638,  21.8369471 ,  21.78476503,\n",
       "         21.70157589,  21.66688169,  21.62530961,  21.54671051,\n",
       "         21.47471899,  21.45995354,  21.3574747 ,  21.31930341,\n",
       "         21.28288332,  21.1534938 ,  21.07919245,  20.98916565,\n",
       "         20.88067829,  20.86933066,  20.84765644,  20.77968297,\n",
       "         20.67176574,  20.65578476,  20.53239359,  20.52229107,\n",
       "         20.46295286,  20.41326411,  20.33463683,  20.31845764,\n",
       "         20.27251436,  20.23914453,  20.15418308,  20.13252009,\n",
       "         20.09639476,  19.98420326,  19.87298541,  19.77444919,\n",
       "         19.70423555,  19.66704358,  19.60671988,  19.57072558,\n",
       "         19.48150266,  19.38155654,  19.35389799,  19.32624938,\n",
       "         19.24795385,  19.20707002,  19.17007176,  19.09990764,\n",
       "         19.02555515,  18.99090884,  18.92883588,  18.81955628,\n",
       "         18.79751037,  18.68930651,  18.68168412,  18.62207406,\n",
       "         18.60707755,  18.53081987,  18.48142791,  18.40153196,\n",
       "         18.3759208 ,  18.28097434,  18.24743013,  18.19237089,\n",
       "         18.11506235,  18.0713151 ,  18.04004017,  17.97201602,\n",
       "         17.95519182,  17.90530999,  17.78028665,  17.74371018,\n",
       "         17.6975917 ,  17.67567436,  17.55622578,  17.52540725,\n",
       "         17.49858849,  17.41722362,  17.38678014,  17.34732082,\n",
       "         17.30884289,  17.20860744,  17.13137276,  17.09651829,\n",
       "         17.04971158,  16.99118145,  16.90715879,  16.862245  ,\n",
       "         16.83821165,  16.79944184,  16.75527582,  16.60222236,\n",
       "         16.54542696,  16.51929856,  16.4646038 ,  16.41280177,\n",
       "         16.40337658,  16.37704249,  16.33078663,  16.24018259,\n",
       "         16.1766756 ,  16.13122294,  16.10951764,  16.07942618,\n",
       "         16.03558775,  15.97855526,  15.9152821 ,  15.8106088 ,\n",
       "         15.77336181,  15.70581554,  15.64723532,  15.58440838,\n",
       "         15.53062708,  15.47634288,  15.45301649,  15.4312888 ,\n",
       "         15.38459866,  15.31037067,  15.27331351,  15.18151071,\n",
       "         15.12444688,  15.0826597 ,  15.05415634,  14.99710088,\n",
       "         14.98173092,  14.9156725 ,  14.86453957,  14.82995205,\n",
       "         14.78325573,  14.7542097 ,  14.69077292,  14.61499973,\n",
       "         14.56200866,  14.5261495 ,  14.49477307,  14.44885764,\n",
       "         14.42724676,  14.35027015,  14.32785283,  14.23565589,\n",
       "         14.1734592 ,  14.1523191 ,  14.10109203,  14.0352469 ,\n",
       "         14.01240149,  13.97610344,  13.94327278,  13.83312619,\n",
       "         13.80523574,  13.76914278,  13.73622543,  13.72520747,\n",
       "         13.6778234 ,  13.64516568,  13.6324305 ,  13.61330052,\n",
       "         13.52467646,  13.46156414,  13.44267289,  13.35373266,\n",
       "         13.32954467,  13.28907317,  13.25544377,  13.21288195,\n",
       "         13.14829722,  13.11538284,  13.10415296,  13.01925887,\n",
       "         12.97221323,  12.96785075,  12.89642468,  12.89235811,\n",
       "         12.83455033,  12.79935965,  12.7849174 ,  12.7001312 ,\n",
       "         12.64766434,  12.62783576,  12.59217858,  12.5475591 ,\n",
       "         12.49931942,  12.46842444,  12.42397512,  12.33332806,\n",
       "         12.27342037,  12.22297963,  12.18377976,  12.16545164,\n",
       "         12.10722395,  12.07435054,  12.03258627,  12.01754505,\n",
       "         11.95474061,  11.94871451,  11.87645049,  11.82918562,\n",
       "         11.78577651,  11.73681992,  11.70520928,  11.66799218,\n",
       "         11.62651068,  11.58390668,  11.5512949 ,  11.52855496,\n",
       "         11.48795016,  11.42283547,  11.39278949,  11.34131314,\n",
       "         11.28863543,  11.26352126,  11.25880429,  11.21444931,\n",
       "         11.2011526 ,  11.12372409,  11.08996433,  11.04477724,\n",
       "         11.00743455,  10.92782421,  10.90717589,  10.88528109,\n",
       "         10.8706319 ,  10.85681944,  10.7919458 ,  10.76927401,\n",
       "         10.71043457,  10.6530698 ,  10.6008484 ,  10.56865572,\n",
       "         10.53258924,  10.49546881,  10.46325965,  10.43479017,\n",
       "         10.38294418,  10.36288254,  10.27152662,  10.26078401,\n",
       "         10.22418064,  10.18826735,  10.12308862,  10.10712382,\n",
       "         10.06194126,  10.01186393,   9.98868206,   9.95420166,\n",
       "          9.91228992,   9.84477011,   9.81995584,   9.80042093,\n",
       "          9.7678743 ,   9.72912037,   9.7109112 ,   9.6894431 ,\n",
       "          9.64686678,   9.60793385,   9.55314373,   9.52706158,\n",
       "          9.50323455,   9.47117983,   9.42642816,   9.3958873 ,\n",
       "          9.37755211,   9.35141853,   9.32687469,   9.27516368,\n",
       "          9.21228723,   9.16752748,   9.11871439,   9.08209861,\n",
       "          9.05083607,   9.04419113,   9.03648025,   8.96472182,\n",
       "          8.9451665 ,   8.89627362,   8.8465928 ,   8.83597914,\n",
       "          8.80877497,   8.79629629,   8.73425292,   8.71182058,\n",
       "          8.69156896,   8.66477814,   8.60364663,   8.58669193,\n",
       "          8.54565558,   8.51520326,   8.47514798,   8.44810183,\n",
       "          8.40872248,   8.39244842,   8.34770866,   8.32746287,\n",
       "          8.26837366,   8.2536772 ,   8.23021381,   8.12219703,\n",
       "          8.11494093,   8.08860437,   8.05039141,   8.00843856,\n",
       "          7.97969271,   7.9622369 ,   7.93726349,   7.92232786,\n",
       "          7.88673317,   7.87491666,   7.85855091,   7.79684975,\n",
       "          7.76358778,   7.72886111,   7.69064952,   7.65115234,\n",
       "          7.61855572,   7.59393727,   7.55820558,   7.54372452,\n",
       "          7.48985596,   7.4675218 ,   7.43377422,   7.42733584,\n",
       "          7.38268727,   7.36780234,   7.32650972,   7.29544176,\n",
       "          7.25886699,   7.22192696,   7.21116707,   7.1807936 ,\n",
       "          7.11503299,   7.10086267,   7.06611818,   7.04883266,\n",
       "          7.01860772,   6.98237541,   6.9326794 ,   6.90823998,\n",
       "          6.90400323,   6.872771  ,   6.83233792,   6.79895087,\n",
       "          6.7944757 ,   6.73480701,   6.70054513,   6.67829063,\n",
       "          6.62943322,   6.61051769,   6.60052308,   6.56700465,\n",
       "          6.51842375,   6.48117696,   6.47164604,   6.44425732,\n",
       "          6.42000882,   6.38263359,   6.36064219,   6.32672688,\n",
       "          6.30451695,   6.2802997 ,   6.24170573,   6.20719962,\n",
       "          6.19023877,   6.15491248,   6.12650671,   6.09351614,\n",
       "          6.08332865,   6.06389367,   6.01019187,   5.99091426,\n",
       "          5.96198456,   5.92971232,   5.91181656,   5.88986406,\n",
       "          5.8463649 ,   5.81779498,   5.77827746,   5.76164747,\n",
       "          5.74401653,   5.70927495,   5.68532839,   5.62334668,\n",
       "          5.59941366,   5.57493017,   5.53941078,   5.52851711,\n",
       "          5.48667774,   5.46782763,   5.46098643,   5.39736922,\n",
       "          5.38261573,   5.36704761,   5.3322667 ,   5.32089731,\n",
       "          5.29411155,   5.25816501,   5.2547038 ,   5.23071993,\n",
       "          5.18748254,   5.17256996,   5.15791865,   5.11604355,\n",
       "          5.09269549,   5.05016223,   5.04174242,   4.98752207,\n",
       "          4.9804114 ,   4.95304219,   4.92494411,   4.91033031,\n",
       "          4.89295092,   4.84955134,   4.81704457,   4.80535376,\n",
       "          4.73437259,   4.69988149,   4.68779782,   4.66027444,\n",
       "          4.62913327,   4.60608977,   4.5722872 ,   4.55812082,\n",
       "          4.52849415,   4.51723033,   4.47402246,   4.45706735,\n",
       "          4.43296618,   4.41437253,   4.3984772 ,   4.36594992,\n",
       "          4.3461467 ,   4.33888881,   4.3056975 ,   4.27612408,\n",
       "          4.22752605,   4.21534325,   4.18187564,   4.17044828,\n",
       "          4.16733753,   4.14762932,   4.10234642,   4.0868044 ,\n",
       "          4.06784633,   4.03770873,   4.0084511 ,   3.99530346,\n",
       "          3.95590235,   3.94799567,   3.913507  ,   3.89508172,\n",
       "          3.84796136,   3.81711584,   3.80175875,   3.79247101,\n",
       "          3.76946523,   3.71833567,   3.70628057,   3.68817213,\n",
       "          3.65667646,   3.65041226,   3.62914385,   3.60200786,\n",
       "          3.56389836,   3.54389058,   3.51866713,   3.51627279,\n",
       "          3.46724629,   3.45752153,   3.42124222,   3.39344527,\n",
       "          3.38031721,   3.34030542,   3.32082434,   3.28237114,\n",
       "          3.27547053,   3.25137944,   3.2321726 ,   3.18963242,\n",
       "          3.16481942,   3.14737113,   3.12312601,   3.10925751,\n",
       "          3.07464151,   3.03614492,   3.01292511,   2.99359467,\n",
       "          2.96383899,   2.9527102 ,   2.92814247,   2.88215557,\n",
       "          2.86140902,   2.82427312,   2.81934758,   2.77750731,\n",
       "          2.75334782,   2.74440535,   2.71854548,   2.68738248,\n",
       "          2.68620807,   2.64773446,   2.63669405,   2.62002126,\n",
       "          2.61131848,   2.57567591,   2.53721214,   2.52114155,\n",
       "          2.49621721,   2.47923939,   2.43157626,   2.40399837,\n",
       "          2.3942159 ,   2.35576584,   2.3328496 ,   2.31571249,\n",
       "          2.26544737,   2.23579465,   2.22273817,   2.19933501,\n",
       "          2.17247762,   2.16119531,   2.11011654,   2.08333971,\n",
       "          2.08155444,   2.03648725,   2.02695529,   1.99558883,\n",
       "          1.97431524,   1.95526271,   1.93211005,   1.91665931,\n",
       "          1.88027067,   1.85863356,   1.8454929 ,   1.81585853,\n",
       "          1.79188109,   1.74107904,   1.72824695,   1.71045537,\n",
       "          1.67605775,   1.64964272,   1.63014779,   1.62701515,\n",
       "          1.58705058,   1.55906887,   1.55587662,   1.51564512,\n",
       "          1.49884162,   1.44124934,   1.42975996,   1.40641277,\n",
       "          1.36103093,   1.33288669,   1.31923963,   1.27959234,\n",
       "          1.23912968,   1.18889095,   1.15338802,   1.14498161,\n",
       "          1.11800052,   1.06349533,   1.02581757,   1.00230271,\n",
       "          0.96854526,   0.93487067,   0.918968  ,   0.87172097,\n",
       "          0.83973733,   0.80144319,   0.77809033,   0.75201176,\n",
       "          0.69874606,   0.67513184,   0.64335756]),\n",
       " array([[-9.59509371e-02, -3.51795155e-02, -1.99288117e-02, ...,\n",
       "         -3.03747116e-05, -3.31055915e-04, -3.16852950e-04],\n",
       "        [ 8.72397853e-02,  7.02505798e-03,  2.86181725e-02, ...,\n",
       "          4.48134760e-04, -1.05231342e-04, -2.03151884e-04],\n",
       "        [ 1.69737618e-02,  6.25039193e-02,  1.16405039e-02, ...,\n",
       "         -5.33024145e-04,  4.54336533e-04,  2.61400068e-04],\n",
       "        ...,\n",
       "        [ 2.72885655e-03, -8.19386209e-03, -7.70133292e-05, ...,\n",
       "          9.19785188e-01, -7.31618476e-03, -2.23774659e-03],\n",
       "        [-8.46022461e-04, -6.57498816e-03, -8.97946607e-04, ...,\n",
       "         -1.04430008e-03,  9.69998444e-01, -2.18589712e-03],\n",
       "        [ 5.95059771e-04,  3.60232319e-03,  5.90559090e-03, ...,\n",
       "          2.38725918e-03,  1.54271832e-03,  9.69492668e-01]]))"
      ]
     },
     "execution_count": 19,
     "metadata": {},
     "output_type": "execute_result"
    }
   ],
   "source": [
    "np.linalg.svd(R)"
   ]
  },
  {
   "cell_type": "code",
   "execution_count": null,
   "metadata": {},
   "outputs": [],
   "source": []
  }
 ],
 "metadata": {
  "kernelspec": {
   "display_name": "Python 3",
   "language": "python",
   "name": "python3"
  },
  "language_info": {
   "codemirror_mode": {
    "name": "ipython",
    "version": 3
   },
   "file_extension": ".py",
   "mimetype": "text/x-python",
   "name": "python",
   "nbconvert_exporter": "python",
   "pygments_lexer": "ipython3",
   "version": "3.6.5"
  }
 },
 "nbformat": 4,
 "nbformat_minor": 2
}
